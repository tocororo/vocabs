{
  "nbformat": 4,
  "nbformat_minor": 0,
  "metadata": {
    "colab": {
      "provenance": []
    },
    "kernelspec": {
      "name": "python3",
      "display_name": "Python 3"
    },
    "language_info": {
      "name": "python"
    }
  },
  "cells": [
    {
      "cell_type": "code",
      "execution_count": 1,
      "metadata": {
        "colab": {
          "base_uri": "https://localhost:8080/"
        },
        "id": "2vVPzMiBnz9c",
        "outputId": "c856ea69-3a17-4016-8947-f16b457f08fb"
      },
      "outputs": [
        {
          "output_type": "stream",
          "name": "stdout",
          "text": [
            "Collecting rdflib\n",
            "  Downloading rdflib-7.0.0-py3-none-any.whl (531 kB)\n",
            "\u001b[?25l     \u001b[90m━━━━━━━━━━━━━━━━━━━━━━━━━━━━━━━━━━━━━━━━\u001b[0m \u001b[32m0.0/531.9 kB\u001b[0m \u001b[31m?\u001b[0m eta \u001b[36m-:--:--\u001b[0m\r\u001b[2K     \u001b[91m━━━━━━━━━━━━━━━━━━━━\u001b[0m\u001b[91m╸\u001b[0m\u001b[90m━━━━━━━━━━━━━━━━━━━\u001b[0m \u001b[32m276.5/531.9 kB\u001b[0m \u001b[31m8.2 MB/s\u001b[0m eta \u001b[36m0:00:01\u001b[0m\r\u001b[2K     \u001b[90m━━━━━━━━━━━━━━━━━━━━━━━━━━━━━━━━━━━━━━━━\u001b[0m \u001b[32m531.9/531.9 kB\u001b[0m \u001b[31m7.9 MB/s\u001b[0m eta \u001b[36m0:00:00\u001b[0m\n",
            "\u001b[?25hCollecting isodate<0.7.0,>=0.6.0 (from rdflib)\n",
            "  Downloading isodate-0.6.1-py2.py3-none-any.whl (41 kB)\n",
            "\u001b[?25l     \u001b[90m━━━━━━━━━━━━━━━━━━━━━━━━━━━━━━━━━━━━━━━━\u001b[0m \u001b[32m0.0/41.7 kB\u001b[0m \u001b[31m?\u001b[0m eta \u001b[36m-:--:--\u001b[0m\r\u001b[2K     \u001b[90m━━━━━━━━━━━━━━━━━━━━━━━━━━━━━━━━━━━━━━━━\u001b[0m \u001b[32m41.7/41.7 kB\u001b[0m \u001b[31m4.5 MB/s\u001b[0m eta \u001b[36m0:00:00\u001b[0m\n",
            "\u001b[?25hRequirement already satisfied: pyparsing<4,>=2.1.0 in /usr/local/lib/python3.10/dist-packages (from rdflib) (3.1.2)\n",
            "Requirement already satisfied: six in /usr/local/lib/python3.10/dist-packages (from isodate<0.7.0,>=0.6.0->rdflib) (1.16.0)\n",
            "Installing collected packages: isodate, rdflib\n",
            "Successfully installed isodate-0.6.1 rdflib-7.0.0\n"
          ]
        }
      ],
      "source": [
        "! pip install rdflib"
      ]
    },
    {
      "cell_type": "markdown",
      "source": [
        "#Obtiene todos los conceptos del vocabulario de la UNESCO y sus clasificaciones superiores en `idioma español`\n",
        "\n",
        "ejemplo: el concepto `Profesión` con uri http://vocabularies.unesco.org/thesaurus/concept678 es clasificado o agrupado por `Política, derecho y economía` y `Gestión de personal`"
      ],
      "metadata": {
        "id": "2cc-0bVUzSHs"
      }
    },
    {
      "cell_type": "code",
      "source": [
        "from rdflib import Graph, URIRef\n",
        "import json\n",
        "from pprint import pprint\n",
        "\n",
        "g = Graph()\n",
        "g.parse(\"/content/unesco-thesaurus.ttl\")\n",
        "\n",
        "knows_query = \"\"\"\n",
        "PREFIX rdf: <http://www.w3.org/1999/02/22-rdf-syntax-ns#>\n",
        "PREFIX skos: <http://www.w3.org/2004/02/skos/core#>\n",
        "PREFIX isothes: <http://purl.org/iso25964/skos-thes#>\n",
        "PREFIX unesco: <http://vocabularies.unesco.org/ontology#>\n",
        "SELECT DISTINCT ?concept ?conceptLabel ?group ?groupLabel ?domain ?domainLabel\n",
        "WHERE {\n",
        "  # obtiene los dominios de la ontologia\n",
        "  ?domain a unesco:Domain .\n",
        "  # de esos dominios obtener sus miembros que en este caso son las agrupaciones intermedias\n",
        "  ?domain skos:member ?group .\n",
        "  # esos miembros son clasificados como ConceptGroup\n",
        "  ?group a isothes:ConceptGroup  .\n",
        "  # de esos grupos obtener sus miembros que son los conceptos\n",
        "  ?group skos:member ?concept .\n",
        "  # comprobar que son conceptos\n",
        "  ?concept a skos:Concept .\n",
        "\n",
        "  # obtener la propiedad Label de los dominios y filtrar por el español\n",
        "  ?domain skos:prefLabel ?domainLabel\n",
        "  FILTER(LANGMATCHES(LANG(?domainLabel), \"es\"))\n",
        "  # obtener la propiedad Label de los grupos y filtrar por el español\n",
        "  ?group skos:prefLabel ?groupLabel\n",
        "  FILTER(LANGMATCHES(LANG(?groupLabel), \"es\"))\n",
        "  # obtener la propiedad Label de los conceptos y filtrar por el español\n",
        "  ?concept skos:prefLabel ?conceptLabel\n",
        "  FILTER(LANGMATCHES(LANG(?conceptLabel), \"es\"))\n",
        "\n",
        "  }\n",
        "\n",
        "\n",
        "\"\"\"\n",
        "# esta consulta sparql retorna una lista, cada elemento contiene una lista con 6 elementos\n",
        "# posiciones |  significado\n",
        "# 0          |  URI del concepto\n",
        "# 1          |  concept Label\n",
        "# 2          |  URI del grupo que calsifica al concepto\n",
        "# 3          |  group Label\n",
        "# 4          |  URI del dominio que calsifica al grupo\n",
        "# 5          |  domain Label\n",
        "qres = g.query(knows_query)\n",
        "count = 0\n",
        "query_format = []\n",
        "\n",
        "for row in qres:\n",
        "    query_format.append(\n",
        "        {'str': \"El concepto \" + row[1] +\" está relacionado a \" + row[3]+\", \"+row[5],\n",
        "         'conceptUri': row[0].toPython(),\n",
        "         'conceptLabel': row[1],\n",
        "         'belongsTo': [\n",
        "             {\n",
        "                 'group':{\n",
        "                    'uri': row[2].toPython(),\n",
        "                    'label': row[3]\n",
        "                 },\n",
        "                 'domain': {\n",
        "                     'uri': row[4].toPython(),\n",
        "                     'label': row[5]\n",
        "                 }\n",
        "             }\n",
        "          ]\n",
        "        }\n",
        "      )\n",
        "    count += 1\n",
        "    # if count == 20: break\n",
        "\n",
        "pprint(count)\n",
        "\n",
        "with open('/content/unesco-parser.json', 'w', encoding='utf-8') as f:\n",
        "    json.dump(query_format, f, ensure_ascii=False, indent=4)"
      ],
      "metadata": {
        "colab": {
          "base_uri": "https://localhost:8080/"
        },
        "id": "Y8atIqnXjPVs",
        "outputId": "c366966b-b8c7-4594-fe87-53b9a8e27474"
      },
      "execution_count": 3,
      "outputs": [
        {
          "output_type": "stream",
          "name": "stdout",
          "text": [
            "4479\n"
          ]
        }
      ]
    },
    {
      "cell_type": "markdown",
      "source": [
        "#Obtiene todos los conceptos del vocabulario de la UNESCO y sus clasificaciones superiores en `idioma ingles`\n"
      ],
      "metadata": {
        "id": "esYid1ij0jo9"
      }
    },
    {
      "cell_type": "code",
      "source": [
        "from rdflib import Graph, URIRef\n",
        "import json\n",
        "from pprint import pprint\n",
        "\n",
        "g = Graph()\n",
        "g.parse(\"/content/unesco-thesaurus.ttl\")\n",
        "\n",
        "knows_query = \"\"\"\n",
        "PREFIX rdf: <http://www.w3.org/1999/02/22-rdf-syntax-ns#>\n",
        "PREFIX skos: <http://www.w3.org/2004/02/skos/core#>\n",
        "PREFIX isothes: <http://purl.org/iso25964/skos-thes#>\n",
        "PREFIX unesco: <http://vocabularies.unesco.org/ontology#>\n",
        "SELECT DISTINCT ?concept ?conceptLabel ?group ?groupLabel ?domain ?domainLabel\n",
        "WHERE {\n",
        "  # obtiene los dominios de la ontologia\n",
        "  ?domain a unesco:Domain .\n",
        "  # de esos dominios obtener sus miembros que en este caso son las agrupaciones intermedias\n",
        "  ?domain skos:member ?group .\n",
        "  # esos miembros son clasificados como ConceptGroup\n",
        "  ?group a isothes:ConceptGroup  .\n",
        "  # de esos grupos obtener sus miembros que son los conceptos\n",
        "  ?group skos:member ?concept .\n",
        "  # comprobar que son conceptos\n",
        "  ?concept a skos:Concept .\n",
        "\n",
        "  # obtener la propiedad Label de los dominios y filtrar por el español\n",
        "  ?domain skos:prefLabel ?domainLabel\n",
        "  FILTER(LANGMATCHES(LANG(?domainLabel), \"en\"))\n",
        "  # obtener la propiedad Label de los grupos y filtrar por el español\n",
        "  ?group skos:prefLabel ?groupLabel\n",
        "  FILTER(LANGMATCHES(LANG(?groupLabel), \"en\"))\n",
        "  # obtener la propiedad Label de los conceptos y filtrar por el español\n",
        "  ?concept skos:prefLabel ?conceptLabel\n",
        "  FILTER(LANGMATCHES(LANG(?conceptLabel), \"en\"))\n",
        "\n",
        "  }\n",
        "\n",
        "\n",
        "\"\"\"\n",
        "# esta consulta sparql retorna una lista, cada elemento contiene una lista con 6 elementos\n",
        "# posiciones |  significado\n",
        "# 0          |  URI del concepto\n",
        "# 1          |  concept Label\n",
        "# 2          |  URI del grupo que calsifica al concepto\n",
        "# 3          |  group Label\n",
        "# 4          |  URI del dominio que calsifica al grupo\n",
        "# 5          |  domain Label\n",
        "qres = g.query(knows_query)\n",
        "count = 0\n",
        "query_format = []\n",
        "\n",
        "for row in qres:\n",
        "    query_format.append(\n",
        "        {'str': \"the concept \" + row[1] +\" is related to \" + row[3]+\", \"+row[5],\n",
        "         'conceptUri': row[0].toPython(),\n",
        "         'conceptLabel': row[1],\n",
        "         'belongsTo': [\n",
        "             {\n",
        "                 'group':{\n",
        "                    'uri': row[2].toPython(),\n",
        "                    'label': row[3]\n",
        "                 },\n",
        "                 'domain': {\n",
        "                     'uri': row[4].toPython(),\n",
        "                     'label': row[5]\n",
        "                 }\n",
        "             }\n",
        "          ]\n",
        "        }\n",
        "      )\n",
        "    count += 1\n",
        "    # if count == 20: break\n",
        "\n",
        "pprint(count)\n",
        "\n",
        "with open('/content/unesco-parser-en.json', 'w', encoding='utf-8') as f:\n",
        "    json.dump(query_format, f, ensure_ascii=False, indent=4)"
      ],
      "metadata": {
        "colab": {
          "base_uri": "https://localhost:8080/"
        },
        "id": "iV8RhZL00y-F",
        "outputId": "91680778-9416-4efa-9d98-5a32f897ecad"
      },
      "execution_count": 2,
      "outputs": [
        {
          "output_type": "stream",
          "name": "stdout",
          "text": [
            "4479\n"
          ]
        }
      ]
    }
  ]
}